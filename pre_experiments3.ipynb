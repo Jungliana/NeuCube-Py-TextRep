{
 "cells": [
  {
   "cell_type": "code",
   "execution_count": 1,
   "metadata": {},
   "outputs": [],
   "source": [
    "import torch\n",
    "from tqdm import tqdm\n",
    "from sklearn.datasets import fetch_20newsgroups\n",
    "from experiments.preprocess import TextPrep\n",
    "from experiments.experiment import snn_experiment, lsa_experiment, snn_multiple_clfs\n",
    "from experiments.params import random_seed"
   ]
  },
  {
   "cell_type": "code",
   "execution_count": 2,
   "metadata": {},
   "outputs": [],
   "source": [
    "device = \"cuda\" if torch.cuda.is_available else \"cpu\""
   ]
  },
  {
   "cell_type": "code",
   "execution_count": null,
   "metadata": {},
   "outputs": [],
   "source": [
    "# Experiment parameters:\n",
    "param_cube_shapes = [(6, 6, 6), (8, 8, 8), (10, 10, 10), (12, 12, 12)]\n",
    "param_spikes = 100\n",
    "param_tfidf_features = 12000"
   ]
  },
  {
   "cell_type": "markdown",
   "metadata": {},
   "source": [
    "## Three categories"
   ]
  },
  {
   "cell_type": "code",
   "execution_count": 3,
   "metadata": {},
   "outputs": [
    {
     "name": "stderr",
     "output_type": "stream",
     "text": [
      "[nltk_data] Downloading package punkt to\n",
      "[nltk_data]     C:\\Users\\aleks\\AppData\\Roaming\\nltk_data...\n",
      "[nltk_data]   Package punkt is already up-to-date!\n"
     ]
    }
   ],
   "source": [
    "preprocessor = TextPrep(svd_components=1000, prob_iterations=100, max_features=12000)\n",
    "cats = ['comp.graphics', 'sci.med', 'talk.politics.guns']\n",
    "newsgroups_train = fetch_20newsgroups(subset='test', categories=cats, remove=('headers', 'footers', 'quotes'))"
   ]
  },
  {
   "cell_type": "code",
   "execution_count": 5,
   "metadata": {},
   "outputs": [
    {
     "data": {
      "text/plain": [
       "torch.Size([1724, 1000])"
      ]
     },
     "execution_count": 5,
     "metadata": {},
     "output_type": "execute_result"
    }
   ],
   "source": [
    "# Only LSA\n",
    "lsa_data_x, lsa_data_y = preprocessor.preprocess_dataset(newsgroups_train, lsa=True, spikes=False)\n",
    "lsa_data_x.to(device)\n",
    "lsa_data_y.to(device)\n",
    "lsa_data_x.size()"
   ]
  },
  {
   "cell_type": "code",
   "execution_count": 6,
   "metadata": {},
   "outputs": [
    {
     "name": "stderr",
     "output_type": "stream",
     "text": [
      "8it [00:02,  2.78it/s]\n"
     ]
    },
    {
     "name": "stdout",
     "output_type": "stream",
     "text": [
      "---- CLASSIFIER: regression ----\n",
      "acc: 0.9222737819025522\n",
      "[[568  14   2]\n",
      " [ 49 529  16]\n",
      " [ 36  17 493]]\n"
     ]
    },
    {
     "name": "stderr",
     "output_type": "stream",
     "text": [
      "8it [01:14,  9.34s/it]\n"
     ]
    },
    {
     "name": "stdout",
     "output_type": "stream",
     "text": [
      "---- CLASSIFIER: random_forest ----\n",
      "acc: 0.8004640371229699\n",
      "[[485  75  24]\n",
      " [ 66 490  38]\n",
      " [ 51  90 405]]\n"
     ]
    },
    {
     "name": "stderr",
     "output_type": "stream",
     "text": [
      "8it [01:42, 12.80s/it]\n"
     ]
    },
    {
     "name": "stdout",
     "output_type": "stream",
     "text": [
      "---- CLASSIFIER: xgboost ----\n",
      "acc: 0.8747099767981439\n",
      "[[522  51  11]\n",
      " [ 52 511  31]\n",
      " [ 31  40 475]]\n"
     ]
    },
    {
     "name": "stderr",
     "output_type": "stream",
     "text": [
      "8it [00:07,  1.01it/s]\n"
     ]
    },
    {
     "name": "stdout",
     "output_type": "stream",
     "text": [
      "---- CLASSIFIER: svc ----\n",
      "acc: 0.9240139211136891\n",
      "[[569  10   5]\n",
      " [ 51 529  14]\n",
      " [ 30  21 495]]\n"
     ]
    },
    {
     "name": "stderr",
     "output_type": "stream",
     "text": [
      "8it [00:00, 77.67it/s]\n"
     ]
    },
    {
     "name": "stdout",
     "output_type": "stream",
     "text": [
      "---- CLASSIFIER: naive_bayes ----\n",
      "acc: 0.7337587006960556\n",
      "[[478  89  17]\n",
      " [104 471  19]\n",
      " [ 92 138 316]]\n"
     ]
    }
   ],
   "source": [
    "lsa_experiment(lsa_data_x, lsa_data_y, clf_type=\"regression\", seed=random_seed, splits=8)\n",
    "lsa_experiment(lsa_data_x, lsa_data_y, clf_type=\"random_forest\", seed=random_seed, splits=8)\n",
    "lsa_experiment(lsa_data_x, lsa_data_y, clf_type=\"xgboost\", seed=random_seed, splits=8)\n",
    "lsa_experiment(lsa_data_x, lsa_data_y, clf_type=\"svc\", seed=random_seed, splits=8)\n",
    "lsa_experiment(lsa_data_x.relu(), lsa_data_y, clf_type=\"naive_bayes\", seed=random_seed, splits=8)\n"
   ]
  },
  {
   "cell_type": "markdown",
   "metadata": {},
   "source": [
    "# SPIKING"
   ]
  },
  {
   "cell_type": "code",
   "execution_count": 4,
   "metadata": {},
   "outputs": [
    {
     "data": {
      "text/plain": [
       "torch.Size([1149, 100, 12000])"
      ]
     },
     "execution_count": 4,
     "metadata": {},
     "output_type": "execute_result"
    }
   ],
   "source": [
    "#TF-IDF and spikes\n",
    "spike_data_x, spike_data_y = preprocessor.preprocess_dataset(newsgroups_train, lsa=False, spikes=True)\n",
    "spike_data_x.to(device)\n",
    "spike_data_y.to(device)\n",
    "spike_data_x.size()"
   ]
  },
  {
   "cell_type": "markdown",
   "metadata": {},
   "source": [
    "### REGRESSION"
   ]
  },
  {
   "cell_type": "code",
   "execution_count": 6,
   "metadata": {},
   "outputs": [
    {
     "name": "stderr",
     "output_type": "stream",
     "text": [
      "8it [17:26, 130.80s/it]\n"
     ]
    },
    {
     "name": "stdout",
     "output_type": "stream",
     "text": [
      "---- CLASSIFIER: regression ----\n",
      "acc: 0.5787641427328112\n",
      "[[245  90  54]\n",
      " [ 89 225  82]\n",
      " [ 67 102 195]]\n"
     ]
    }
   ],
   "source": [
    "snn_experiment(spike_data_x, spike_data_y, clf_type=\"regression\", splits=8, shape=(4, 4, 4))"
   ]
  },
  {
   "cell_type": "code",
   "execution_count": 7,
   "metadata": {},
   "outputs": [
    {
     "name": "stderr",
     "output_type": "stream",
     "text": [
      "8it [16:46, 125.86s/it]\n"
     ]
    },
    {
     "name": "stdout",
     "output_type": "stream",
     "text": [
      "---- CLASSIFIER: regression ----\n",
      "acc: 0.6762402088772846\n",
      "[[278  76  35]\n",
      " [ 85 258  53]\n",
      " [ 43  80 241]]\n"
     ]
    }
   ],
   "source": [
    "snn_experiment(spike_data_x, spike_data_y, clf_type=\"regression\", splits=8, shape=(6, 6, 6))"
   ]
  },
  {
   "cell_type": "code",
   "execution_count": 8,
   "metadata": {},
   "outputs": [
    {
     "name": "stderr",
     "output_type": "stream",
     "text": [
      "8it [19:23, 145.47s/it]\n"
     ]
    },
    {
     "name": "stdout",
     "output_type": "stream",
     "text": [
      "---- CLASSIFIER: regression ----\n",
      "acc: 0.7484769364664926\n",
      "[[304  56  29]\n",
      " [ 56 296  44]\n",
      " [ 30  74 260]]\n"
     ]
    }
   ],
   "source": [
    "snn_experiment(spike_data_x, spike_data_y, clf_type=\"regression\", splits=8, shape=(8, 8, 8))"
   ]
  },
  {
   "cell_type": "code",
   "execution_count": 9,
   "metadata": {},
   "outputs": [
    {
     "name": "stderr",
     "output_type": "stream",
     "text": [
      "8it [27:20, 205.07s/it]\n"
     ]
    },
    {
     "name": "stdout",
     "output_type": "stream",
     "text": [
      "---- CLASSIFIER: regression ----\n",
      "acc: 0.8181026979982594\n",
      "[[330  47  12]\n",
      " [ 45 322  29]\n",
      " [ 27  49 288]]\n"
     ]
    }
   ],
   "source": [
    "snn_experiment(spike_data_x, spike_data_y, clf_type=\"regression\", splits=8, shape=(10, 10, 10))"
   ]
  },
  {
   "cell_type": "code",
   "execution_count": 10,
   "metadata": {},
   "outputs": [
    {
     "name": "stderr",
     "output_type": "stream",
     "text": [
      "8it [48:51, 366.40s/it]\n"
     ]
    },
    {
     "name": "stdout",
     "output_type": "stream",
     "text": [
      "---- CLASSIFIER: regression ----\n",
      "acc: 0.834638816362054\n",
      "[[333  46  10]\n",
      " [ 37 324  35]\n",
      " [ 19  43 302]]\n"
     ]
    }
   ],
   "source": [
    "snn_experiment(spike_data_x, spike_data_y, clf_type=\"regression\", splits=8, shape=(12, 12, 12))"
   ]
  },
  {
   "cell_type": "code",
   "execution_count": 16,
   "metadata": {},
   "outputs": [
    {
     "name": "stderr",
     "output_type": "stream",
     "text": [
      "8it [2:02:16, 917.05s/it]\n"
     ]
    },
    {
     "name": "stdout",
     "output_type": "stream",
     "text": [
      "---- CLASSIFIER: regression ----\n",
      "acc: 0.8720626631853786\n",
      "[[348  26  15]\n",
      " [ 27 344  25]\n",
      " [ 13  41 310]]\n"
     ]
    }
   ],
   "source": [
    "snn_experiment(spike_data_x, spike_data_y, clf_type=\"regression\", splits=8, shape=(15, 15, 15))"
   ]
  },
  {
   "cell_type": "code",
   "execution_count": null,
   "metadata": {},
   "outputs": [],
   "source": [
    "snn_experiment(spike_data_x, spike_data_y, clf_type=\"regression\", splits=8, shape=(18, 18, 18))"
   ]
  },
  {
   "cell_type": "markdown",
   "metadata": {},
   "source": [
    "### XGBOOST"
   ]
  },
  {
   "cell_type": "code",
   "execution_count": 11,
   "metadata": {},
   "outputs": [
    {
     "name": "stderr",
     "output_type": "stream",
     "text": [
      "8it [18:09, 136.18s/it]\n"
     ]
    },
    {
     "name": "stdout",
     "output_type": "stream",
     "text": [
      "---- CLASSIFIER: xgboost ----\n",
      "acc: 0.5387293298520452\n",
      "[[221 109  59]\n",
      " [ 92 216  88]\n",
      " [ 69 113 182]]\n"
     ]
    }
   ],
   "source": [
    "snn_experiment(spike_data_x, spike_data_y, clf_type=\"xgboost\", splits=8, shape=(4, 4, 4))"
   ]
  },
  {
   "cell_type": "code",
   "execution_count": 12,
   "metadata": {},
   "outputs": [
    {
     "name": "stderr",
     "output_type": "stream",
     "text": [
      "8it [17:30, 131.37s/it]\n"
     ]
    },
    {
     "name": "stdout",
     "output_type": "stream",
     "text": [
      "---- CLASSIFIER: xgboost ----\n",
      "acc: 0.6562228024369017\n",
      "[[270  72  47]\n",
      " [ 83 254  59]\n",
      " [ 50  84 230]]\n"
     ]
    }
   ],
   "source": [
    "snn_experiment(spike_data_x, spike_data_y, clf_type=\"xgboost\", splits=8, shape=(6, 6, 6))"
   ]
  },
  {
   "cell_type": "code",
   "execution_count": 13,
   "metadata": {},
   "outputs": [
    {
     "name": "stderr",
     "output_type": "stream",
     "text": [
      "8it [18:53, 141.71s/it]\n"
     ]
    },
    {
     "name": "stdout",
     "output_type": "stream",
     "text": [
      "---- CLASSIFIER: xgboost ----\n",
      "acc: 0.6884247171453438\n",
      "[[279  75  35]\n",
      " [ 66 276  54]\n",
      " [ 50  78 236]]\n"
     ]
    }
   ],
   "source": [
    "snn_experiment(spike_data_x, spike_data_y, clf_type=\"xgboost\", splits=8, shape=(8, 8, 8))"
   ]
  },
  {
   "cell_type": "code",
   "execution_count": 14,
   "metadata": {},
   "outputs": [
    {
     "name": "stderr",
     "output_type": "stream",
     "text": [
      "8it [29:45, 223.20s/it]\n"
     ]
    },
    {
     "name": "stdout",
     "output_type": "stream",
     "text": [
      "---- CLASSIFIER: xgboost ----\n",
      "acc: 0.7119234116623151\n",
      "[[290  69  30]\n",
      " [ 67 275  54]\n",
      " [ 48  63 253]]\n"
     ]
    }
   ],
   "source": [
    "snn_experiment(spike_data_x, spike_data_y, clf_type=\"xgboost\", splits=8, shape=(10, 10, 10))"
   ]
  },
  {
   "cell_type": "code",
   "execution_count": 15,
   "metadata": {},
   "outputs": [
    {
     "name": "stderr",
     "output_type": "stream",
     "text": [
      "8it [52:28, 393.55s/it]\n"
     ]
    },
    {
     "name": "stdout",
     "output_type": "stream",
     "text": [
      "---- CLASSIFIER: xgboost ----\n",
      "acc: 0.7458659704090513\n",
      "[[312  48  29]\n",
      " [ 58 296  42]\n",
      " [ 44  71 249]]\n"
     ]
    }
   ],
   "source": [
    "snn_experiment(spike_data_x, spike_data_y, clf_type=\"xgboost\", splits=8, shape=(12, 12, 12))"
   ]
  }
 ],
 "metadata": {
  "kernelspec": {
   "display_name": "venv",
   "language": "python",
   "name": "python3"
  },
  "language_info": {
   "codemirror_mode": {
    "name": "ipython",
    "version": 3
   },
   "file_extension": ".py",
   "mimetype": "text/x-python",
   "name": "python",
   "nbconvert_exporter": "python",
   "pygments_lexer": "ipython3",
   "version": "3.10.11"
  }
 },
 "nbformat": 4,
 "nbformat_minor": 2
}
