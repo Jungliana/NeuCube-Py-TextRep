{
 "cells": [
  {
   "cell_type": "code",
   "execution_count": 1,
   "metadata": {},
   "outputs": [],
   "source": [
    "from neucube import Reservoir\n",
    "from neucube.validation import Pipeline\n",
    "from neucube.sampler import SpikeCount\n",
    "import torch\n",
    "\n",
    "from sklearn.metrics import accuracy_score as accuracy\n",
    "from sklearn.metrics import confusion_matrix\n",
    "from sklearn.model_selection import KFold\n",
    "from sklearn.linear_model import LogisticRegression\n",
    "from sklearn.ensemble import RandomForestClassifier\n",
    "from sklearn.naive_bayes import MultinomialNB\n",
    "from sklearn.svm import SVC\n",
    "from xgboost import XGBClassifier\n",
    "from tqdm import tqdm\n",
    "\n",
    "from sklearn.datasets import fetch_20newsgroups\n",
    "from experiments.preprocess import TextPrep\n"
   ]
  },
  {
   "cell_type": "code",
   "execution_count": 2,
   "metadata": {},
   "outputs": [],
   "source": [
    "device = \"cuda\" if torch.cuda.is_available else \"cpu\""
   ]
  },
  {
   "cell_type": "code",
   "execution_count": 3,
   "metadata": {},
   "outputs": [
    {
     "name": "stderr",
     "output_type": "stream",
     "text": [
      "[nltk_data] Downloading package punkt to\n",
      "[nltk_data]     C:\\Users\\aleks\\AppData\\Roaming\\nltk_data...\n",
      "[nltk_data]   Package punkt is already up-to-date!\n",
      "c:\\Users\\aleks\\Documents\\Moje dokumenty\\Studia\\Praca Magisterska\\NeuCube-Py-TextRep\\venv\\lib\\site-packages\\sklearn\\feature_extraction\\text.py:408: UserWarning: Your stop_words may be inconsistent with your preprocessing. Tokenizing the stop words generated tokens ['thi', 'wa'] not in stop_words.\n",
      "  warnings.warn(\n"
     ]
    }
   ],
   "source": [
    "preprocessor = TextPrep()\n",
    "cats = ['comp.graphics','sci.med', 'talk.politics.guns']   #, 'rec.motorcycles'] 'soc.religion.christian']\n",
    "newsgroups_train = fetch_20newsgroups(subset='all', categories=cats)\n",
    "X, y = preprocessor.preprocess_dataset(newsgroups_train)"
   ]
  },
  {
   "cell_type": "code",
   "execution_count": 4,
   "metadata": {},
   "outputs": [
    {
     "data": {
      "text/plain": [
       "tensor([0., 0., 2.,  ..., 1., 1., 2.], device='cuda:0')"
      ]
     },
     "execution_count": 4,
     "metadata": {},
     "output_type": "execute_result"
    }
   ],
   "source": [
    "X.to(device)\n",
    "y.to(device)"
   ]
  },
  {
   "cell_type": "code",
   "execution_count": 5,
   "metadata": {},
   "outputs": [
    {
     "name": "stderr",
     "output_type": "stream",
     "text": [
      "4it [1:46:44, 1601.16s/it]\n"
     ]
    },
    {
     "name": "stdout",
     "output_type": "stream",
     "text": [
      "0.702749738948834\n",
      "[[717 171  85]\n",
      " [219 618 153]\n",
      " [101 125 684]]\n"
     ]
    }
   ],
   "source": [
    "kf = KFold(n_splits=4, shuffle=True, random_state=123)\n",
    "y_total, pred_total = [],[]\n",
    "\n",
    "for train_index, test_index in tqdm(kf.split(X)):\n",
    "  X_train, X_test = X[train_index], X[test_index]\n",
    "  y_train, y_test = y[train_index], y[test_index]\n",
    "\n",
    "  res = Reservoir(inputs=X.shape[2], cube_shape=(5, 5, 5))\n",
    "  sam =  SpikeCount()\n",
    "  #clf = LogisticRegression(solver='liblinear')\n",
    "  #clf = RandomForestClassifier()\n",
    "  #clf = XGBClassifier()\n",
    "  #clf = MultinomialNB()\n",
    "  clf = SVC(kernel='linear')\n",
    "  pipe = Pipeline(res, sam, clf)\n",
    "  \n",
    "  pipe.fit(X_train, y_train, train=True)\n",
    "  pred = pipe.predict(X_test)\n",
    "\n",
    "  y_total.extend(y_test)\n",
    "  pred_total.extend(pred)\n",
    "\n",
    "print(accuracy(y_total, pred_total))\n",
    "print(confusion_matrix(y_total, pred_total))"
   ]
  }
 ],
 "metadata": {
  "kernelspec": {
   "display_name": "base",
   "language": "python",
   "name": "python3"
  },
  "language_info": {
   "codemirror_mode": {
    "name": "ipython",
    "version": 3
   },
   "file_extension": ".py",
   "mimetype": "text/x-python",
   "name": "python",
   "nbconvert_exporter": "python",
   "pygments_lexer": "ipython3",
   "version": "3.10.11"
  },
  "orig_nbformat": 4
 },
 "nbformat": 4,
 "nbformat_minor": 2
}
