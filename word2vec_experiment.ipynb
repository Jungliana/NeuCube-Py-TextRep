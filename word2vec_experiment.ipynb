{
 "cells": [
  {
   "cell_type": "code",
   "execution_count": 1,
   "metadata": {},
   "outputs": [],
   "source": [
    "import gensim.downloader as api\n",
    "from sklearn.datasets import fetch_20newsgroups\n",
    "import torch\n",
    "\n",
    "from experiments.experiment import snn_experiment, lsa_experiment\n",
    "from experiments.preprocess import Word2VecPrep"
   ]
  },
  {
   "cell_type": "code",
   "execution_count": 2,
   "metadata": {},
   "outputs": [],
   "source": [
    "device = \"cuda\" if torch.cuda.is_available() else \"cpu\""
   ]
  },
  {
   "cell_type": "code",
   "execution_count": 3,
   "metadata": {},
   "outputs": [
    {
     "name": "stderr",
     "output_type": "stream",
     "text": [
      "[nltk_data] Downloading package punkt to\n",
      "[nltk_data]     C:\\Users\\aleks\\AppData\\Roaming\\nltk_data...\n",
      "[nltk_data]   Package punkt is already up-to-date!\n"
     ]
    }
   ],
   "source": [
    "word2vec = api.load('word2vec-google-news-300')\n",
    "text_prep = Word2VecPrep(word2vec)"
   ]
  },
  {
   "cell_type": "code",
   "execution_count": 4,
   "metadata": {},
   "outputs": [],
   "source": [
    "cats = ['comp.graphics', 'sci.med', 'talk.politics.guns']\n",
    "newsgroups_train = fetch_20newsgroups(subset='train', categories=cats)"
   ]
  },
  {
   "cell_type": "markdown",
   "metadata": {},
   "source": [
    "### Averaged Word2Vec"
   ]
  },
  {
   "cell_type": "code",
   "execution_count": null,
   "metadata": {},
   "outputs": [],
   "source": [
    "train_x, train_y = text_prep.preprocess_dataset(newsgroups_train, avg=True)\n",
    "train_x.to(device)\n",
    "train_y.to(device)\n",
    "print(device)"
   ]
  },
  {
   "cell_type": "code",
   "execution_count": 6,
   "metadata": {},
   "outputs": [
    {
     "name": "stderr",
     "output_type": "stream",
     "text": [
      "4it [00:00, 10.10it/s]"
     ]
    },
    {
     "name": "stdout",
     "output_type": "stream",
     "text": [
      "\n",
      "---- CLASSIFIER: regression ----\n",
      "acc: 0.9547563805104409\n",
      "[[574   1   9]\n",
      " [ 34 550  10]\n",
      " [ 19   5 522]]\n"
     ]
    },
    {
     "name": "stderr",
     "output_type": "stream",
     "text": [
      "\n"
     ]
    }
   ],
   "source": [
    "lsa_experiment(train_x, train_y, clf_type=\"regression\", splits=4)"
   ]
  },
  {
   "cell_type": "code",
   "execution_count": 7,
   "metadata": {},
   "outputs": [
    {
     "name": "stderr",
     "output_type": "stream",
     "text": [
      "4it [00:14,  3.59s/it]"
     ]
    },
    {
     "name": "stdout",
     "output_type": "stream",
     "text": [
      "\n",
      "---- CLASSIFIER: random_forest ----\n",
      "acc: 0.9437354988399071\n",
      "[[566  11   7]\n",
      " [ 37 548   9]\n",
      " [ 26   7 513]]\n"
     ]
    },
    {
     "name": "stderr",
     "output_type": "stream",
     "text": [
      "\n"
     ]
    }
   ],
   "source": [
    "lsa_experiment(train_x, train_y, clf_type=\"random_forest\", splits=4)"
   ]
  },
  {
   "cell_type": "code",
   "execution_count": 8,
   "metadata": {},
   "outputs": [
    {
     "name": "stderr",
     "output_type": "stream",
     "text": [
      "4it [00:11,  3.00s/it]"
     ]
    },
    {
     "name": "stdout",
     "output_type": "stream",
     "text": [
      "\n",
      "---- CLASSIFIER: xgboost ----\n",
      "acc: 0.9553364269141531\n",
      "[[568  10   6]\n",
      " [ 28 559   7]\n",
      " [ 18   8 520]]\n"
     ]
    },
    {
     "name": "stderr",
     "output_type": "stream",
     "text": [
      "\n"
     ]
    }
   ],
   "source": [
    "lsa_experiment(train_x, train_y, clf_type=\"xgboost\", splits=4)"
   ]
  },
  {
   "cell_type": "markdown",
   "metadata": {},
   "source": [
    "### Spiking Word2Vec"
   ]
  },
  {
   "cell_type": "code",
   "execution_count": 9,
   "metadata": {},
   "outputs": [],
   "source": [
    "spike_train_x, spike_train_y = text_prep.preprocess_dataset(newsgroups_train, avg=False, max_size=120)\n",
    "mask = spike_train_x >= 0.25\n",
    "data_x = torch.where(mask, torch.tensor(1), torch.tensor(0))"
   ]
  },
  {
   "cell_type": "code",
   "execution_count": 10,
   "metadata": {},
   "outputs": [
    {
     "name": "stdout",
     "output_type": "stream",
     "text": [
      "cuda\n"
     ]
    }
   ],
   "source": [
    "data_x.to(device)\n",
    "spike_train_y.to(device)\n",
    "print(device)"
   ]
  },
  {
   "cell_type": "markdown",
   "metadata": {},
   "source": [
    "#### Regression"
   ]
  },
  {
   "cell_type": "code",
   "execution_count": 11,
   "metadata": {},
   "outputs": [
    {
     "name": "stderr",
     "output_type": "stream",
     "text": [
      "4it [14:03, 210.91s/it]"
     ]
    },
    {
     "name": "stdout",
     "output_type": "stream",
     "text": [
      "---- CLASSIFIER: regression ----\n",
      "acc: 0.8109048723897911\n",
      "[[513  49  22]\n",
      " [ 76 483  35]\n",
      " [ 61  83 402]]\n"
     ]
    },
    {
     "name": "stderr",
     "output_type": "stream",
     "text": [
      "\n"
     ]
    }
   ],
   "source": [
    "snn_experiment(data_x, spike_train_y, clf_type=\"regression\", splits=4, shape=(5, 5, 5), res_train=True)"
   ]
  },
  {
   "cell_type": "code",
   "execution_count": 12,
   "metadata": {},
   "outputs": [
    {
     "name": "stderr",
     "output_type": "stream",
     "text": [
      "4it [13:54, 208.67s/it]"
     ]
    },
    {
     "name": "stdout",
     "output_type": "stream",
     "text": [
      "---- CLASSIFIER: regression ----\n",
      "acc: 0.857308584686775\n",
      "[[535  37  12]\n",
      " [ 65 500  29]\n",
      " [ 53  50 443]]\n"
     ]
    },
    {
     "name": "stderr",
     "output_type": "stream",
     "text": [
      "\n"
     ]
    }
   ],
   "source": [
    "snn_experiment(data_x, spike_train_y, clf_type=\"regression\", splits=4, shape=(6, 6, 6), res_train=True)"
   ]
  },
  {
   "cell_type": "code",
   "execution_count": 13,
   "metadata": {},
   "outputs": [
    {
     "name": "stderr",
     "output_type": "stream",
     "text": [
      "4it [14:00, 210.24s/it]"
     ]
    },
    {
     "name": "stdout",
     "output_type": "stream",
     "text": [
      "---- CLASSIFIER: regression ----\n",
      "acc: 0.8474477958236659\n",
      "[[528  39  17]\n",
      " [ 71 495  28]\n",
      " [ 52  56 438]]\n"
     ]
    },
    {
     "name": "stderr",
     "output_type": "stream",
     "text": [
      "\n"
     ]
    }
   ],
   "source": [
    "snn_experiment(data_x, spike_train_y, clf_type=\"regression\", splits=4, shape=(5, 6, 7), res_train=True)"
   ]
  },
  {
   "cell_type": "code",
   "execution_count": 14,
   "metadata": {},
   "outputs": [
    {
     "name": "stderr",
     "output_type": "stream",
     "text": [
      "4it [14:21, 215.36s/it]\n"
     ]
    },
    {
     "name": "stdout",
     "output_type": "stream",
     "text": [
      "---- CLASSIFIER: regression ----\n",
      "acc: 0.8834106728538283\n",
      "[[547  28   9]\n",
      " [ 61 512  21]\n",
      " [ 40  42 464]]\n"
     ]
    }
   ],
   "source": [
    "snn_experiment(data_x, spike_train_y, clf_type=\"regression\", splits=4, shape=(8, 8, 8), res_train=True)"
   ]
  },
  {
   "cell_type": "markdown",
   "metadata": {},
   "source": [
    "#### XGBoost"
   ]
  },
  {
   "cell_type": "code",
   "execution_count": 15,
   "metadata": {},
   "outputs": [
    {
     "name": "stderr",
     "output_type": "stream",
     "text": [
      "4it [14:02, 210.70s/it]"
     ]
    },
    {
     "name": "stdout",
     "output_type": "stream",
     "text": [
      "---- CLASSIFIER: xgboost ----\n",
      "acc: 0.8439675174013921\n",
      "[[502  45  37]\n",
      " [ 59 482  53]\n",
      " [ 35  40 471]]\n"
     ]
    },
    {
     "name": "stderr",
     "output_type": "stream",
     "text": [
      "\n"
     ]
    }
   ],
   "source": [
    "snn_experiment(data_x, spike_train_y, clf_type=\"xgboost\", splits=4, shape=(5, 5, 5), res_train=True)"
   ]
  },
  {
   "cell_type": "code",
   "execution_count": 16,
   "metadata": {},
   "outputs": [
    {
     "name": "stderr",
     "output_type": "stream",
     "text": [
      "4it [14:08, 212.14s/it]"
     ]
    },
    {
     "name": "stdout",
     "output_type": "stream",
     "text": [
      "---- CLASSIFIER: xgboost ----\n",
      "acc: 0.861368909512761\n",
      "[[516  43  25]\n",
      " [ 52 498  44]\n",
      " [ 28  47 471]]\n"
     ]
    },
    {
     "name": "stderr",
     "output_type": "stream",
     "text": [
      "\n"
     ]
    }
   ],
   "source": [
    "snn_experiment(data_x, spike_train_y, clf_type=\"xgboost\", splits=4, shape=(6, 6, 6), res_train=True)"
   ]
  },
  {
   "cell_type": "code",
   "execution_count": 17,
   "metadata": {},
   "outputs": [
    {
     "name": "stderr",
     "output_type": "stream",
     "text": [
      "4it [14:05, 211.37s/it]"
     ]
    },
    {
     "name": "stdout",
     "output_type": "stream",
     "text": [
      "---- CLASSIFIER: xgboost ----\n",
      "acc: 0.8677494199535963\n",
      "[[527  33  24]\n",
      " [ 61 498  35]\n",
      " [ 38  37 471]]\n"
     ]
    },
    {
     "name": "stderr",
     "output_type": "stream",
     "text": [
      "\n"
     ]
    }
   ],
   "source": [
    "snn_experiment(data_x, spike_train_y, clf_type=\"xgboost\", splits=4, shape=(5, 6, 7), res_train=True)"
   ]
  },
  {
   "cell_type": "code",
   "execution_count": 18,
   "metadata": {},
   "outputs": [
    {
     "name": "stderr",
     "output_type": "stream",
     "text": [
      "4it [14:43, 220.97s/it]"
     ]
    },
    {
     "name": "stdout",
     "output_type": "stream",
     "text": [
      "---- CLASSIFIER: xgboost ----\n",
      "acc: 0.9008120649651972\n",
      "[[546  21  17]\n",
      " [ 47 511  36]\n",
      " [ 31  19 496]]\n"
     ]
    },
    {
     "name": "stderr",
     "output_type": "stream",
     "text": [
      "\n"
     ]
    }
   ],
   "source": [
    "snn_experiment(data_x, spike_train_y, clf_type=\"xgboost\", splits=4, shape=(8, 8, 8), res_train=True)"
   ]
  }
 ],
 "metadata": {
  "kernelspec": {
   "display_name": "venv",
   "language": "python",
   "name": "python3"
  },
  "language_info": {
   "codemirror_mode": {
    "name": "ipython",
    "version": 3
   },
   "file_extension": ".py",
   "mimetype": "text/x-python",
   "name": "python",
   "nbconvert_exporter": "python",
   "pygments_lexer": "ipython3",
   "version": "3.10.11"
  }
 },
 "nbformat": 4,
 "nbformat_minor": 2
}
