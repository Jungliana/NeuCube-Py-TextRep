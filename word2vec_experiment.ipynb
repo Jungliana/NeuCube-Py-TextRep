{
 "cells": [
  {
   "cell_type": "code",
   "execution_count": 1,
   "metadata": {},
   "outputs": [],
   "source": [
    "import gensim.downloader as api\n",
    "from sklearn.datasets import fetch_20newsgroups\n",
    "import torch\n",
    "\n",
    "from experiments.experiment import snn_experiment, lsa_experiment\n",
    "from experiments.preprocess import Word2VecPrep"
   ]
  },
  {
   "cell_type": "code",
   "execution_count": 2,
   "metadata": {},
   "outputs": [],
   "source": [
    "device = \"cuda\" if torch.cuda.is_available else \"cpu\""
   ]
  },
  {
   "cell_type": "code",
   "execution_count": 3,
   "metadata": {},
   "outputs": [],
   "source": [
    "word2vec = api.load('word2vec-google-news-300')"
   ]
  },
  {
   "cell_type": "code",
   "execution_count": 4,
   "metadata": {},
   "outputs": [
    {
     "name": "stderr",
     "output_type": "stream",
     "text": [
      "[nltk_data] Downloading package punkt to\n",
      "[nltk_data]     C:\\Users\\aleks\\AppData\\Roaming\\nltk_data...\n",
      "[nltk_data]   Package punkt is already up-to-date!\n"
     ]
    }
   ],
   "source": [
    "cats = ['comp.graphics', 'sci.med', 'talk.politics.guns']\n",
    "newsgroups_train = fetch_20newsgroups(subset='test')\n",
    "\n",
    "text_prep = Word2VecPrep(word2vec)"
   ]
  },
  {
   "cell_type": "code",
   "execution_count": 5,
   "metadata": {},
   "outputs": [
    {
     "data": {
      "text/plain": [
       "['From: v064mb9k@ubvmsd.cc.buffalo.edu (NEIL B. GANDLER)\\nSubject: Need info on 88-89 Bonneville\\nOrganization: University at Buffalo\\nLines: 10\\nNews-Software: VAX/VMS VNEWS 1.41\\nNntp-Posting-Host: ubvmsd.cc.buffalo.edu\\n\\n\\n I am a little confused on all of the models of the 88-89 bonnevilles.\\nI have heard of the LE SE LSE SSE SSEI. Could someone tell me the\\ndifferences are far as features or performance. I am also curious to\\nknow what the book value is for prefereably the 89 model. And how much\\nless than book value can you usually get them for. In other words how\\nmuch are they in demand this time of year. I have heard that the mid-spring\\nearly summer is the best time to buy.\\n\\n\\t\\t\\tNeil Gandler\\n',\n",
       " 'From: Rick Miller <rick@ee.uwm.edu>\\nSubject: X-Face?\\nOrganization: Just me.\\nLines: 17\\nDistribution: world\\nNNTP-Posting-Host: 129.89.2.33\\nSummary: Go ahead... swamp me.  <EEP!>\\n\\nI\\'m not familiar at all with the format of these \"X-Face:\" thingies, but\\nafter seeing them in some folks\\' headers, I\\'ve *got* to *see* them (and\\nmaybe make one of my own)!\\n\\nI\\'ve got \"dpg-view\" on my Linux box (which displays \"uncompressed X-Faces\")\\nand I\\'ve managed to compile [un]compface too... but now that I\\'m *looking*\\nfor them, I can\\'t seem to find any X-Face:\\'s in anyones news headers!  :-(\\n\\nCould you, would you, please send me your \"X-Face:\" header?\\n\\nI *know* I\\'ll probably get a little swamped, but I can handle it.\\n\\n\\t...I hope.\\n\\nRick Miller  <rick@ee.uwm.edu> | <ricxjo@discus.mil.wi.us>   Ricxjo Muelisto\\nSend a postcard, get one back! | Enposxtigu bildkarton kaj vi ricevos alion!\\n          RICK MILLER // 16203 WOODS // MUSKEGO, WIS. 53150 // USA\\n',\n",
       " 'From: mathew <mathew@mantis.co.uk>\\nSubject: Re: STRONG & weak Atheism\\nOrganization: Mantis Consultants, Cambridge. UK.\\nX-Newsreader: rusnews v1.02\\nLines: 9\\n\\nacooper@mac.cc.macalstr.edu (Turin Turambar, ME Department of Utter Misery) writes:\\n> Did that FAQ ever got modified to re-define strong atheists as not those who\\n> assert the nonexistence of God, but as those who assert that they BELIEVE in \\n> the nonexistence of God?\\n\\nIn a word, yes.\\n\\n\\nmathew\\n',\n",
       " 'From: bakken@cs.arizona.edu (Dave Bakken)\\nSubject: Re: Saudi clergy condemns debut of human rights group!\\nKeywords: international, non-usa government, government, civil rights, \\tsocial issues, politics\\nOrganization: U of Arizona CS Dept, Tucson\\nLines: 101\\n\\nIn article <benali.737307554@alcor> benali@alcor.concordia.ca ( ILYESS B. BDIRA ) writes:\\n>It looks like Ben Baz\\'s mind and heart are also blind, not only his eyes.\\n>I used to respect him, today I lost the minimal amount of respect that\\n>I struggled to keep for him.\\n>To All Muslim netters: This is the same guy who gave a \"Fatwah\" that\\n>Saudi Arabia can be used by the United Ststes to attack Iraq . \\n\\nThey were attacking the Iraqis to drive them out of Kuwait,\\na country whose citizens have close blood and business ties\\nto Saudi citizens.  And me thinks if the US had not helped out\\nthe Iraqis would have swallowed Saudi Arabia, too (or at \\nleast the eastern oilfields).  And no Muslim country was doing\\nmuch of anything to help liberate Kuwait and protect Saudi\\nArabia; indeed, in some masses of citizens were demonstrating\\nin favor of that butcher Saddam (who killed lotsa Muslims),\\njust because he was killing, raping, and looting relatively\\nrich Muslims and also thumbing his nose at the West.\\n\\nSo how would have *you* defended Saudi Arabia and rolled\\nback the Iraqi invasion, were you in charge of Saudi Arabia???\\n\\n>Fatwah is as legitimate as this one. With that kind of \"Clergy\", it might\\n>be an Islamic duty to separate religion and politics, if religion\\n>means \"official Clergy\".\\n\\nI think that it is a very good idea to not have governments have an\\nofficial religion (de facto or de jure), because with human nature\\nlike it is, the ambitious and not the pious will always be the\\nones who rise to power.  There are just too many people in this\\nworld (or any country) for the citizens to really know if a \\nleader is really devout or if he is just a slick operator.\\n\\n>\\n>  \\tCAIRO, Egypt (UPI) -- The Cairo-based Arab Organization for Human\\n>  Rights (AOHR) Thursday welcomed the establishement last week of the\\n>  Committee for Defense of Legal Rights in Saudi Arabia and said it was\\n>  necessary to have such groups operating in all Arab countries.\\n\\nYou make it sound like these guys are angels, Ilyess.  (In your\\nclarinet posting you edited out some stuff; was it the following???)\\nFriday\\'s New York Times reported that this group definitely is\\nmore conservative than even Sheikh Baz and his followers (who\\nthink that the House of Saud does not rule the country conservatively\\nenough).  The NYT reported that, besides complaining that the\\ngovernment was not conservative enough, they have:\\n\\n\\t- asserted that the (approx. 500,000) Shiites in the Kingdom\\n\\t  are apostates, a charge that under Saudi (and Islamic) law\\n\\t  brings the death penalty.  \\n\\n\\t  Diplomatic guy (Sheikh bin Jibrin), isn\\'t he Ilyess?\\n\\n\\t- called for severe punishment of the 40 or so women who\\n\\t  drove in public a while back to protest the ban on\\n\\t  women driving.  The guy from the group who said this,\\n\\t  Abdelhamoud al-Toweijri, said that these women should\\n\\t  be fired from their jobs, jailed, and branded as\\n\\t  prostitutes.\\n\\n\\t  Is this what you want to see happen, Ilyess?  I\\'ve\\n\\t  heard many Muslims say that the ban on women driving\\n\\t  has no basis in the Qur\\'an, the ahadith, etc.\\n\\t  Yet these folks not only like the ban, they want\\n\\t  these women falsely called prostitutes?  \\n\\n\\t  If I were you, I\\'d choose my heroes wisely,\\n\\t  Ilyess, not just reflexively rally behind\\n\\t  anyone who hates anyone you hate.\\n\\n\\t- say that women should not be allowed to work.\\n\\n\\t- say that TV and radio are too immoral in the Kingdom.\\n\\nNow, the House of Saud is neither my least nor my most favorite government\\non earth; I think they restrict religious and political reedom a lot, among\\nother things.  I just think that the most likely replacements\\nfor them are going to be a lot worse for the citizens of the country.\\nBut I think the House of Saud is feeling the heat lately.  In the\\nlast six months or so I\\'ve read there have been stepped up harassing\\nby the muttawain (religious police---*not* government) of Western women\\nnot fully veiled (something stupid for women to do, IMO, because it\\nsends the wrong signals about your morality).  And I\\'ve read that\\nthey\\'ve cracked down on the few, home-based expartiate religious\\ngatherings, and even posted rewards in (government-owned) newspapers\\noffering money for anyone who turns in a group of expartiates who\\ndare worship in their homes or any other secret place. So the\\ngovernment has grown even more intolerant to try to take some of\\nthe wind out of the sails of the more-conservative opposition.\\nAs unislamic as some of these things are, they\\'re just a small\\ntaste of what would happen if these guys overthrow the House of\\nSaud, like they\\'re trying to in the long run.\\n\\nIs this really what you (and Rached and others in the general\\nwest-is-evil-zionists-rule-hate-west-or-you-are-a-puppet crowd)\\nwant, Ilyess?\\n\\n--\\nDave Bakken\\n==>\"the President is doing a fine job, but the problem is we don\\'t know what\\n    to do with her husband.\" James Carville (Clinton campaign strategist),2/93\\n==>\"Oh, please call Daddy. Mom\\'s far too busy.\"  Chelsea to nurse, CSPAN, 2/93\\n',\n",
       " 'From: livesey@solntze.wpd.sgi.com (Jon Livesey)\\nSubject: Re: After 2000 years, can we say that Christian Morality is\\nOrganization: sgi\\nLines: 22\\nDistribution: world\\nNNTP-Posting-Host: solntze.wpd.sgi.com\\n\\nIn article <1993Apr21.141259.12012@st-andrews.ac.uk>, nrp@st-andrews.ac.uk (Norman R. Paterson) writes:\\n|> In article <1r2m21$8mo@fido.asd.sgi.com> livesey@solntze.wpd.sgi.com (Jon Livesey) writes:\\n|> >In article <1993Apr19.151902.21216@st-andrews.ac.uk>, nrp@st-andrews.ac.uk (Norman R. Paterson) writes:\\n> >Just as well, then, that I\\'m not claiming that my own moral system is\\n> >absolute.\\n> >\\n> >jon.\\n> >\\n> >[list of references stretching from here to Alpha Centauri deleted.]\\n>\\n> Jon-\\n>\\n> [and I thought to impress with my references!]\\n>\\n> Ok, so you don\\'t claim to have an absolute moral system.  Do you claim\\n> to have an objective one?  I\\'ll assume your answer is \"yes,\" apologies\\n> if not.\\n\\nI\\'ve just spent two solid months arguing that no such thing as an\\nobjective moral system exists.\\n\\njon.\\n',\n",
       " 'From: banschbach@vms.ocom.okstate.edu\\nSubject: Re: Candida(yeast) Bloom, Fact or Fiction\\nOrganization: OSU College of Osteopathic Medicine\\nLines: 91\\nNntp-Posting-Host: vms.ocom.okstate.edu\\n\\nIn article <1rp8p1$2d3@usenet.INS.CWRU.Edu>, esd3@po.CWRU.Edu (Elisabeth S. Davidson) writes:\\n> \\n> In a previous article, banschbach@vms.ocom.okstate.edu () says:\\n>>least a few \"enlightened\" physicians practicing in the U.S.  It\\'s really \\n>>too bad that most U.S. medical schools don\\'t cover nutrition because if \\n>>they did, candida would not be viewed as a non-disease by so many in the \\n>>medical profession.\\n> \\n> Case Western Reserve Med School teaches nutrition in its own section as\\n> well as covering it in other sections as they apply (i.e. B12\\n> deficiency in neuro as a cause of neuropathy, B12 deficiency in\\n> hematology as a cause of megaloblastic anemia), yet I sill\\n> hold the viewpoint of mainstream medicine:  candida can cause\\n> mucocutaneous candidiasis, and, in already very sick patients\\n> with damaged immune systems like AIDS and cancer patients,\\n> systemic candida infection.  I think \"The Yeast Connection\" is\\n> a bunch of hooey.  What does this have to do with how well\\n> nutrition is taught, anyway?\\n\\nElisabeth, let\\'s set the record straight for the nth time, I have not read \\n\"The Yeast Connection\".  So anything that I say is not due to brainwashing \\nby this \"hated\" book.  It\\'s okay I guess to hate the book, by why hate me?\\nElisabeth, I\\'m going to quote from Zinsser\\'s Microbiology, 20th Edition.\\nA book that you should be familiar with and not \"hate\". \"Candida species \\ncolonize the mucosal surfaces of all humans during birth or shortly \\nthereafter.  The risk of endogenous infection is clearly ever present.  \\nIndeed, candidiasis occurs worldwide and is the most common systemic \\nmycosis.\"  Neutrophils play the main role in preventing a systemic \\ninfection(candidiasis) so you would have to have a low neutrophil count or \\n\"sick\" neutrophils to see a systemic infection.  Poor diet and persistent \\nparasitic infestation set many third world residents up for candidiasis.\\nYour assessment of candidiasis in the U.S. is correct and I do not dispute \\nit.\\n\\nWhat I posted was a discussion of candida blooms, without systemic \\ninfection.  These blooms would be responsible for local sites of irritation\\n(GI tract, mouth, vagina and sinus cavity).  Knocking down the bacterial \\ncompetition for candida was proposed as a possible trigger for candida \\nblooms.  Let me quote from Zinsser\\'s again: \"However, some factors, such as \\nthe use of a broad-spectrum antibacterial antibiotic, may predispose to \\nboth mucosal and systemic infections\".  I was addressing mucosal infections\\n(I like the term blooms better).  The nutrition course that I teach covers \\nthis effect of antibiotic treatment as well as the \"cure\".  I guess that \\nyour nutrition course does not, too bad.  \\n\\n\\n>>Here is a brief primer on yeast.  Yeast infections, as they are commonly \\n>>called, are not truely caused by yeasts.  The most common organism responsible\\n>>for this type of infection is Candida albicans or Monilia which is actually a \\n>>yeast-like fungus.  \\n> \\n> Well, maybe I\\'m getting picky, but I always thought that a yeast\\n> was one form that a fungus could exist in, the other being the\\n> mold form.  Many fungi can occur as either yeasts or molds, \\n> depending on environment.  Candida exibits what is known as\\n> reverse dimorphism - it exists as a mold in the tissues\\n> but exists as a yeast in the environment.  Should we maybe\\n> call it a mold infection?  a fungus infection?  Maybe we\\n> should say it is caused by a mold-like fungus.\\n>  \\n>> \\n>>Martin Banschbach, Ph.D.\\n>>Professor of Biochemistry and Chairman\\n>>Department of Biochemistry and Microbiology\\n>>OSU College of Osteopathic Medicine\\n>>1111 West 17th St.\\n>>Tulsa, Ok. 74107\\n>>\\n> \\n> You\\'re the chairman of Biochem and Micro and you didn\\'t know \\n> that a yeast is a form of a fungus?  (shudder)\\n> Or maybe you did know, and were oversimplifying?\\n\\nMy, my Elisabeth, do I detect a little of Steve Dyer in you?  If you \\nnoticed my faculty rank, I\\'m a biochemist, not a microbiologist.\\nCandida is classifed as a fungus(according to Zinsser\\'s).  But, as you point \\nout, it displays dimorphism.  It is capable of producing yeast cells, \\npseudohyphae and true hyphae.  Elisabeth, you are probably a microbiologist \\nand that makes a lot of sense to you.  To a biochemist, it\\'s a lot of \\nGreek.  So I called it a yeast-like fungus, go ahead and crucify me.\\n\\nYou know Elisabeth, I still haven\\'t been able to figure out why such a small \\nlittle organism like Candida can bring out so much hostility in people in \\nSci. Med.  And I must admitt that I got sucked into the mud slinging too.\\nI keep hoping that if people will just take the time to think about what \\nI\\'ve said, that it will make sense.  I\\'m not asking anyone here to buy into \\n\"The Yeast Connection\" book because I don\\'t know what\\'s in that book, plain \\nand simple. And to be honest with you, I\\'m beginning to wish that it was never \\nwritten.\\n\\nMarty B.\\n',\n",
       " 'From: PETCH@gvg47.gvg.tek.com (Chuck)\\nSubject: Daily Verse\\nLines: 3\\n\\nDishonest money dwindles away, but he who gathers money little by little makes\\nit grow. \\nProverbs 13:11\\n',\n",
       " 'From: fortmann@superbowl.und.ac.za (Paul Fortmann - PG)\\nSubject: \"The Word Perfect\" EXE file needed\\nOrganization: University Of Natal (Durban)\\nLines: 14\\n\\nA friend of mine managed to get a copy of a computerised Greek and Hebrew \\nLexicon called \"The Word Perfect\" (That is not the word processing \\npackage WordPerfect). However, some one wiped out the EXE file, and she \\nhas not been able to restore it. There are no distributors of the package in \\nSouth Africa. I would appreciate it, if some one could email me the file, or \\nat least tell me where I could get it from. \\n\\nMy email address is\\n\\tfortmann@superbowl.und.ac.za     or\\n\\tfortmann@shrike.und.ac.za\\n \\nMany thanks.\\n\\nIn Him, Paul Fortmann\\n',\n",
       " 'From: kartik@hls.COM (Kartik Chandrasekhar)\\nSubject: Multiple(Not Simultaneous) server connections\\nOrganization: The Internet\\nLines: 13\\nNNTP-Posting-Host: enterpoop.mit.edu\\nTo: xpert@expo.lcs.mit.edu\\n\\nHi,\\n\\n   We have a requirement for dynamically closing and opening\\ndifferent display servers within an X application in a manner such\\nthat at any time there is only one display associated with the client.\\n\\n   Assumming a proper cleanup is done during the transition should\\nwe anticipate any problems.\\n\\n\\nkartik\\nkartik@hls.com\\n\\n',\n",
       " \"From: tmc@spartan.ac.BrockU.CA (Tim Ciceran)\\nSubject: Re: Turning photographic images into thermal print and/or negatives\\nOrganization: Brock University, St. Catharines Ontario\\nX-Newsreader: TIN [version 1.1 PL9]\\nLines: 22\\n\\nJennifer Lynn Urso (ju23+@andrew.cmu.edu) wrote:\\n:  \\n: well, i have lots of experience with scanning in images and altering\\n: them.  as for changing them back into negatives, is that really possible?\\n\\n: (stuff deleted)\\n\\n: jennifer urso:  the oh-so bitter woman of utter blahness(but cheerful\\n: undertones)\\n\\nI use Aldus Photostyler on the PC and I can turn a colour or black and white\\nimage into a negative or turn a negative into a colour or black and white\\nimage.  I don't know how it does it but it works well.  To test it I scanned\\na negative and used Aldus to create a positive.  It looked better than the\\nprint that the film developers gave me.\\n\\n\\n-- \\n\\nTMC\\n(tmc@spartan.ac.BrockU.ca)\\n\\n\"]"
      ]
     },
     "execution_count": 5,
     "metadata": {},
     "output_type": "execute_result"
    }
   ],
   "source": [
    "newsgroups_train.data[:10]"
   ]
  },
  {
   "cell_type": "code",
   "execution_count": null,
   "metadata": {},
   "outputs": [],
   "source": [
    "# train_x, train_y = text_prep.preprocess_dataset(newsgroups_train)\n",
    "# train_x.to(device)\n",
    "# train_y.to(device)\n",
    "# print(device)"
   ]
  },
  {
   "cell_type": "code",
   "execution_count": null,
   "metadata": {},
   "outputs": [],
   "source": [
    "#mask = (newsgroups_vectors_tensor > 0)\n",
    "# mask = (newsgroups_vectors_tensor > -0.05) & (newsgroups_vectors_tensor < 0.05)\n",
    "# data_x = torch.where(mask, torch.tensor(1), torch.tensor(0))\n",
    "# data_x.to(device)"
   ]
  },
  {
   "cell_type": "code",
   "execution_count": null,
   "metadata": {},
   "outputs": [],
   "source": [
    "#lsa_experiment(train_x, train_y, clf_type=\"regression\", splits=8)"
   ]
  },
  {
   "cell_type": "code",
   "execution_count": null,
   "metadata": {},
   "outputs": [],
   "source": [
    "#lsa_experiment(train_x, train_y, clf_type=\"random_forest\", splits=8)"
   ]
  },
  {
   "cell_type": "code",
   "execution_count": null,
   "metadata": {},
   "outputs": [],
   "source": [
    "#lsa_experiment(train_x, train_y, clf_type=\"xgboost\", splits=8)"
   ]
  },
  {
   "cell_type": "code",
   "execution_count": null,
   "metadata": {},
   "outputs": [],
   "source": [
    "#encoder = Probability(iterations=100)\n",
    "#spike_train_x = encoder.encode_dataset(newsgroups_vectors_tensor)"
   ]
  },
  {
   "cell_type": "code",
   "execution_count": 6,
   "metadata": {},
   "outputs": [
    {
     "name": "stderr",
     "output_type": "stream",
     "text": [
      "c:\\Users\\aleks\\Documents\\Moje dokumenty\\Studia\\Praca Magisterska\\NeuCube-Py-TextRep\\experiments\\preprocess.py:85: UserWarning: Creating a tensor from a list of numpy.ndarrays is extremely slow. Please consider converting the list to a single numpy.ndarray with numpy.array() before converting to a tensor. (Triggered internally at ..\\torch\\csrc\\utils\\tensor_new.cpp:264.)\n",
      "  train_x = tensor(newsgroups_vectors)\n"
     ]
    }
   ],
   "source": [
    "spike_train_x, spike_train_y = text_prep.preprocess_dataset(newsgroups_train, avg=False)"
   ]
  },
  {
   "cell_type": "code",
   "execution_count": 13,
   "metadata": {},
   "outputs": [
    {
     "data": {
      "text/plain": [
       "tensor([[[1, 1, 1,  ..., 1, 1, 1],\n",
       "         [0, 0, 1,  ..., 0, 1, 1],\n",
       "         [1, 1, 0,  ..., 0, 1, 0],\n",
       "         ...,\n",
       "         [0, 1, 1,  ..., 1, 1, 1],\n",
       "         [1, 0, 1,  ..., 1, 1, 1],\n",
       "         [0, 0, 0,  ..., 1, 0, 0]],\n",
       "\n",
       "        [[1, 1, 1,  ..., 1, 1, 1],\n",
       "         [0, 0, 1,  ..., 1, 1, 0],\n",
       "         [1, 0, 0,  ..., 1, 1, 0],\n",
       "         ...,\n",
       "         [0, 1, 1,  ..., 0, 0, 0],\n",
       "         [1, 0, 0,  ..., 0, 0, 0],\n",
       "         [1, 1, 0,  ..., 0, 1, 1]],\n",
       "\n",
       "        [[1, 1, 1,  ..., 1, 1, 1],\n",
       "         [1, 1, 0,  ..., 0, 1, 0],\n",
       "         [1, 1, 1,  ..., 0, 0, 0],\n",
       "         ...,\n",
       "         [0, 1, 0,  ..., 0, 0, 0],\n",
       "         [0, 1, 1,  ..., 1, 0, 1],\n",
       "         [1, 0, 0,  ..., 1, 1, 0]],\n",
       "\n",
       "        ...,\n",
       "\n",
       "        [[1, 1, 1,  ..., 1, 1, 1],\n",
       "         [1, 1, 0,  ..., 0, 1, 0],\n",
       "         [1, 1, 1,  ..., 0, 0, 0],\n",
       "         ...,\n",
       "         [0, 1, 1,  ..., 1, 1, 0],\n",
       "         [1, 1, 1,  ..., 1, 0, 1],\n",
       "         [1, 0, 1,  ..., 1, 1, 0]],\n",
       "\n",
       "        [[1, 1, 1,  ..., 1, 1, 1],\n",
       "         [1, 1, 0,  ..., 0, 1, 0],\n",
       "         [1, 1, 1,  ..., 0, 1, 0],\n",
       "         ...,\n",
       "         [0, 0, 1,  ..., 0, 1, 1],\n",
       "         [1, 1, 1,  ..., 1, 1, 0],\n",
       "         [0, 1, 1,  ..., 0, 0, 1]],\n",
       "\n",
       "        [[1, 1, 1,  ..., 1, 1, 1],\n",
       "         [1, 1, 0,  ..., 0, 1, 0],\n",
       "         [1, 1, 1,  ..., 0, 0, 0],\n",
       "         ...,\n",
       "         [1, 1, 1,  ..., 1, 1, 1],\n",
       "         [0, 1, 0,  ..., 0, 1, 1],\n",
       "         [1, 0, 1,  ..., 0, 0, 1]]])"
      ]
     },
     "execution_count": 13,
     "metadata": {},
     "output_type": "execute_result"
    }
   ],
   "source": [
    "mask = (spike_train_x > -0.1) & (spike_train_x < 0.1)\n",
    "data_x = torch.where(mask, torch.tensor(1), torch.tensor(0))\n",
    "data_x"
   ]
  },
  {
   "cell_type": "code",
   "execution_count": 14,
   "metadata": {},
   "outputs": [
    {
     "name": "stdout",
     "output_type": "stream",
     "text": [
      "cuda\n"
     ]
    }
   ],
   "source": [
    "data_x.to(device)\n",
    "spike_train_y.to(device)\n",
    "print(device)"
   ]
  },
  {
   "cell_type": "code",
   "execution_count": 15,
   "metadata": {},
   "outputs": [
    {
     "name": "stderr",
     "output_type": "stream",
     "text": [
      "8it [5:50:50, 2631.35s/it]\n"
     ]
    },
    {
     "name": "stdout",
     "output_type": "stream",
     "text": [
      "---- CLASSIFIER: regression ----\n",
      "acc: 0.04314922995220393\n",
      "[[  0   0   0   0   0  34   0   0   0  40  44  41   0  44  41  75   0   0\n",
      "    0   0]\n",
      " [  0   0   0   0   0  51   1   0   0  41  49  47   0  55  41 104   0   0\n",
      "    0   0]\n",
      " [  0   0   0   0   0  46   0   0   0  50  51  48   0  51  51  97   0   0\n",
      "    0   0]\n",
      " [  0   0   0   0   0  51   0   0   0  47  45  52   0  42  42 113   0   0\n",
      "    0   0]\n",
      " [  0   0   0   0   0  51   0   0   0  44  45  44   0  47  45 109   0   0\n",
      "    0   0]\n",
      " [  0   1   0   0   0  41   1   0   0  53  44  54   0  36  65 100   0   0\n",
      "    0   0]\n",
      " [  0   0   0   0   0  56   5   0   1  50  52  44   0  49  45  88   0   0\n",
      "    0   0]\n",
      " [  0   0   0   0   0  57   0   0   0  47  44  47   0  58  46  97   0   0\n",
      "    0   0]\n",
      " [  0   0   0   0   0  46   1   0   0  48  58  44   0  54  46 101   0   0\n",
      "    0   0]\n",
      " [  0   0   0   0   0  60   1   0   0  45  47  46   0  48  46 104   0   0\n",
      "    0   0]\n",
      " [  0   0   0   0   0  57   1   0   1  48  35  44   0  48  60 105   0   0\n",
      "    0   0]\n",
      " [  0   0   0   0   0  53   0   0   0  54  54  39   0  47  48 101   0   0\n",
      "    0   0]\n",
      " [  0   0   0   0   0  38   0   0   0  45  53  52   0  54  55  96   0   0\n",
      "    0   0]\n",
      " [  0   0   0   0   0  48   2   0   0  50  46  55   0  41  52 102   0   0\n",
      "    0   0]\n",
      " [  0   1   0   0   0  39   0   0   0  54  55  56   0  54  39  96   0   0\n",
      "    0   0]\n",
      " [  0   0   0   0   0  56   0   0   0  53  50  60   0  45  54  80   0   0\n",
      "    0   0]\n",
      " [  0   0   0   0   0  49   0   0   0  49  36  48   0  44  48  90   0   0\n",
      "    0   0]\n",
      " [  0   0   0   0   0  55   0   0   0  46  51  49   0  39  46  90   0   0\n",
      "    0   0]\n",
      " [  0   0   0   0   0  44   0   0   0  39  46  36   0  36  38  71   0   0\n",
      "    0   0]\n",
      " [  0   0   0   0   0  32   0   0   0  35  36  35   0  24  31  58   0   0\n",
      "    0   0]]\n"
     ]
    }
   ],
   "source": [
    "snn_experiment(data_x, spike_train_y, clf_type=\"regression\", splits=8, shape=(6, 6, 6))"
   ]
  }
 ],
 "metadata": {
  "kernelspec": {
   "display_name": "venv",
   "language": "python",
   "name": "python3"
  },
  "language_info": {
   "codemirror_mode": {
    "name": "ipython",
    "version": 3
   },
   "file_extension": ".py",
   "mimetype": "text/x-python",
   "name": "python",
   "nbconvert_exporter": "python",
   "pygments_lexer": "ipython3",
   "version": "3.10.11"
  }
 },
 "nbformat": 4,
 "nbformat_minor": 2
}
