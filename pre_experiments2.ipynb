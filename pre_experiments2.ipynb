{
 "cells": [
  {
   "cell_type": "code",
   "execution_count": 1,
   "metadata": {},
   "outputs": [],
   "source": [
    "import torch\n",
    "from tqdm import tqdm\n",
    "from sklearn.datasets import fetch_20newsgroups\n",
    "from experiments.preprocess import TextPrep\n",
    "from experiments.experiment import snn_experiment, lsa_experiment, binary_tfidf_experiment\n",
    "from experiments.params import random_seed"
   ]
  },
  {
   "cell_type": "code",
   "execution_count": 4,
   "metadata": {},
   "outputs": [],
   "source": [
    "device = \"cuda\" if torch.cuda.is_available else \"cpu\""
   ]
  },
  {
   "cell_type": "code",
   "execution_count": 3,
   "metadata": {},
   "outputs": [
    {
     "name": "stderr",
     "output_type": "stream",
     "text": [
      "[nltk_data] Downloading package punkt to\n",
      "[nltk_data]     C:\\Users\\aleks\\AppData\\Roaming\\nltk_data...\n",
      "[nltk_data]   Package punkt is already up-to-date!\n"
     ]
    }
   ],
   "source": [
    "preprocessor = TextPrep(svd_components=1000, prob_iterations=200, max_features=None)\n",
    "cats = ['comp.graphics','sci.med'] #, 'talk.politics.guns', 'rec.motorcycles', 'soc.religion.christian']\n",
    "newsgroups_train = fetch_20newsgroups(subset='test', categories=cats, remove=('headers', 'footers', 'quotes'))"
   ]
  },
  {
   "cell_type": "code",
   "execution_count": 4,
   "metadata": {},
   "outputs": [
    {
     "name": "stderr",
     "output_type": "stream",
     "text": [
      "c:\\Users\\aleks\\Documents\\Moje dokumenty\\Studia\\Praca Magisterska\\NeuCube-Py-TextRep\\venv\\lib\\site-packages\\sklearn\\feature_extraction\\text.py:408: UserWarning: Your stop_words may be inconsistent with your preprocessing. Tokenizing the stop words generated tokens ['thi', 'wa'] not in stop_words.\n",
      "  warnings.warn(\n"
     ]
    },
    {
     "data": {
      "text/plain": [
       "torch.Size([785, 13722])"
      ]
     },
     "execution_count": 4,
     "metadata": {},
     "output_type": "execute_result"
    }
   ],
   "source": [
    "data_x, data_y = preprocessor.preprocess_dataset(newsgroups_train, lsa=False, spikes=False)\n",
    "data_x.to(device)\n",
    "data_y.to(device)\n",
    "data_x.size()"
   ]
  },
  {
   "cell_type": "code",
   "execution_count": 5,
   "metadata": {},
   "outputs": [
    {
     "name": "stderr",
     "output_type": "stream",
     "text": [
      "5it [9:22:40, 6752.10s/it]\n"
     ]
    },
    {
     "name": "stdout",
     "output_type": "stream",
     "text": [
      "0.467515923566879\n",
      "[[214 175]\n",
      " [243 153]]\n"
     ]
    }
   ],
   "source": [
    "binary_tfidf_experiment(data_x, data_y, clf_type=\"regression\", seed=random_seed)"
   ]
  },
  {
   "cell_type": "markdown",
   "metadata": {},
   "source": [
    "## Three categories"
   ]
  },
  {
   "cell_type": "code",
   "execution_count": 2,
   "metadata": {},
   "outputs": [
    {
     "name": "stderr",
     "output_type": "stream",
     "text": [
      "[nltk_data] Downloading package punkt to\n",
      "[nltk_data]     C:\\Users\\aleks\\AppData\\Roaming\\nltk_data...\n",
      "[nltk_data]   Package punkt is already up-to-date!\n"
     ]
    }
   ],
   "source": [
    "preprocessor = TextPrep(svd_components=10000, prob_iterations=100, max_features=12000)\n",
    "cats = ['comp.graphics', 'sci.med', 'talk.politics.guns'] #, 'rec.motorcycles', 'soc.religion.christian']\n",
    "newsgroups_train = fetch_20newsgroups(subset='train', categories=cats, remove=('headers', 'footers', 'quotes'))"
   ]
  },
  {
   "cell_type": "code",
   "execution_count": 5,
   "metadata": {},
   "outputs": [
    {
     "data": {
      "text/plain": [
       "torch.Size([1724, 1724])"
      ]
     },
     "execution_count": 5,
     "metadata": {},
     "output_type": "execute_result"
    }
   ],
   "source": [
    "# Only LSA\n",
    "lsa_data_x, lsa_data_y = preprocessor.preprocess_dataset(newsgroups_train, lsa=True, spikes=False)\n",
    "lsa_data_x.to(device)\n",
    "lsa_data_y.to(device)\n",
    "lsa_data_x.size()"
   ]
  },
  {
   "cell_type": "code",
   "execution_count": 6,
   "metadata": {},
   "outputs": [
    {
     "name": "stderr",
     "output_type": "stream",
     "text": [
      "8it [00:04,  1.75it/s]"
     ]
    },
    {
     "name": "stdout",
     "output_type": "stream",
     "text": [
      "0.9222737819025522\n",
      "[[568  14   2]\n",
      " [ 48 530  16]\n",
      " [ 39  15 492]]\n"
     ]
    },
    {
     "name": "stderr",
     "output_type": "stream",
     "text": [
      "\n"
     ]
    }
   ],
   "source": [
    "lsa_experiment(lsa_data_x, lsa_data_y, clf_type=\"regression\", seed=random_seed, splits=8)"
   ]
  },
  {
   "cell_type": "code",
   "execution_count": 7,
   "metadata": {},
   "outputs": [
    {
     "name": "stderr",
     "output_type": "stream",
     "text": [
      "8it [01:35, 11.88s/it]"
     ]
    },
    {
     "name": "stdout",
     "output_type": "stream",
     "text": [
      "0.7621809744779582\n",
      "[[485  74  25]\n",
      " [ 89 466  39]\n",
      " [ 57 126 363]]\n"
     ]
    },
    {
     "name": "stderr",
     "output_type": "stream",
     "text": [
      "\n"
     ]
    }
   ],
   "source": [
    "lsa_experiment(lsa_data_x, lsa_data_y, clf_type=\"random_forest\", seed=random_seed, splits=8)"
   ]
  },
  {
   "cell_type": "code",
   "execution_count": 8,
   "metadata": {},
   "outputs": [
    {
     "name": "stderr",
     "output_type": "stream",
     "text": [
      "0it [00:00, ?it/s]"
     ]
    },
    {
     "name": "stderr",
     "output_type": "stream",
     "text": [
      "8it [03:00, 22.57s/it]"
     ]
    },
    {
     "name": "stdout",
     "output_type": "stream",
     "text": [
      "0.8636890951276102\n",
      "[[516  50  18]\n",
      " [ 44 506  44]\n",
      " [ 30  49 467]]\n"
     ]
    },
    {
     "name": "stderr",
     "output_type": "stream",
     "text": [
      "\n"
     ]
    }
   ],
   "source": [
    "lsa_experiment(lsa_data_x, lsa_data_y, clf_type=\"xgboost\", seed=random_seed, splits=8)"
   ]
  },
  {
   "cell_type": "code",
   "execution_count": 11,
   "metadata": {},
   "outputs": [
    {
     "name": "stderr",
     "output_type": "stream",
     "text": [
      "0it [00:00, ?it/s]"
     ]
    },
    {
     "name": "stderr",
     "output_type": "stream",
     "text": [
      "8it [00:00, 41.23it/s]"
     ]
    },
    {
     "name": "stdout",
     "output_type": "stream",
     "text": [
      "0.679814385150812\n",
      "[[493  87   4]\n",
      " [134 454   6]\n",
      " [154 167 225]]\n"
     ]
    },
    {
     "name": "stderr",
     "output_type": "stream",
     "text": [
      "\n"
     ]
    }
   ],
   "source": [
    "lsa_experiment(lsa_data_x.relu(), lsa_data_y, clf_type=\"naive_bayes\", seed=random_seed, splits=8)"
   ]
  },
  {
   "cell_type": "code",
   "execution_count": 10,
   "metadata": {},
   "outputs": [
    {
     "name": "stderr",
     "output_type": "stream",
     "text": [
      "8it [00:14,  1.85s/it]"
     ]
    },
    {
     "name": "stdout",
     "output_type": "stream",
     "text": [
      "0.9292343387470998\n",
      "[[572   9   3]\n",
      " [ 45 537  12]\n",
      " [ 33  20 493]]\n"
     ]
    },
    {
     "name": "stderr",
     "output_type": "stream",
     "text": [
      "\n"
     ]
    }
   ],
   "source": [
    "lsa_experiment(lsa_data_x, lsa_data_y, clf_type=\"svc\", seed=random_seed, splits=8)"
   ]
  },
  {
   "cell_type": "code",
   "execution_count": 5,
   "metadata": {},
   "outputs": [
    {
     "data": {
      "text/plain": [
       "torch.Size([1724, 100, 12000])"
      ]
     },
     "execution_count": 5,
     "metadata": {},
     "output_type": "execute_result"
    }
   ],
   "source": [
    "#TF-IDF and spikes\n",
    "spike_data_x, spike_data_y = preprocessor.preprocess_dataset(newsgroups_train, lsa=False, spikes=True)\n",
    "spike_data_x.to(device)\n",
    "spike_data_y.to(device)\n",
    "spike_data_x.size()"
   ]
  },
  {
   "cell_type": "code",
   "execution_count": 6,
   "metadata": {},
   "outputs": [
    {
     "name": "stderr",
     "output_type": "stream",
     "text": [
      "8it [47:44, 358.10s/it]\n"
     ]
    },
    {
     "name": "stdout",
     "output_type": "stream",
     "text": [
      "0.8109048723897911\n",
      "[[482  59  43]\n",
      " [ 74 477  43]\n",
      " [ 47  60 439]]\n"
     ]
    }
   ],
   "source": [
    "snn_experiment(spike_data_x, spike_data_y, clf_type=\"regression\", seed=random_seed, splits=8)"
   ]
  },
  {
   "cell_type": "code",
   "execution_count": 7,
   "metadata": {},
   "outputs": [
    {
     "name": "stderr",
     "output_type": "stream",
     "text": [
      "8it [47:23, 355.49s/it]\n"
     ]
    },
    {
     "name": "stdout",
     "output_type": "stream",
     "text": [
      "0.6368909512761021\n",
      "[[456  90  38]\n",
      " [170 359  65]\n",
      " [155 108 283]]\n"
     ]
    }
   ],
   "source": [
    "snn_experiment(spike_data_x, spike_data_y, clf_type=\"random_forest\", seed=random_seed, splits=8)"
   ]
  },
  {
   "cell_type": "code",
   "execution_count": 8,
   "metadata": {},
   "outputs": [
    {
     "name": "stderr",
     "output_type": "stream",
     "text": [
      "0it [00:00, ?it/s]"
     ]
    },
    {
     "name": "stderr",
     "output_type": "stream",
     "text": [
      "8it [48:39, 364.98s/it]\n"
     ]
    },
    {
     "name": "stdout",
     "output_type": "stream",
     "text": [
      "0.7459396751740139\n",
      "[[479  67  38]\n",
      " [106 425  63]\n",
      " [ 79  85 382]]\n"
     ]
    }
   ],
   "source": [
    "snn_experiment(spike_data_x, spike_data_y, clf_type=\"xgboost\", seed=random_seed, splits=8)"
   ]
  },
  {
   "cell_type": "code",
   "execution_count": 9,
   "metadata": {},
   "outputs": [
    {
     "name": "stderr",
     "output_type": "stream",
     "text": [
      "8it [46:51, 351.43s/it]\n"
     ]
    },
    {
     "name": "stdout",
     "output_type": "stream",
     "text": [
      "0.7134570765661253\n",
      "[[442 132  10]\n",
      " [ 73 505  16]\n",
      " [ 44 219 283]]\n"
     ]
    }
   ],
   "source": [
    "snn_experiment(spike_data_x, spike_data_y, clf_type=\"naive_bayes\", seed=random_seed, splits=8)"
   ]
  },
  {
   "cell_type": "code",
   "execution_count": 10,
   "metadata": {},
   "outputs": [
    {
     "name": "stderr",
     "output_type": "stream",
     "text": [
      "8it [48:05, 360.66s/it]\n"
     ]
    },
    {
     "name": "stdout",
     "output_type": "stream",
     "text": [
      "0.8167053364269141\n",
      "[[480  68  36]\n",
      " [ 58 484  52]\n",
      " [ 50  52 444]]\n"
     ]
    }
   ],
   "source": [
    "snn_experiment(spike_data_x, spike_data_y, clf_type=\"svc\", seed=random_seed, splits=8)"
   ]
  }
 ],
 "metadata": {
  "kernelspec": {
   "display_name": "venv",
   "language": "python",
   "name": "python3"
  },
  "language_info": {
   "codemirror_mode": {
    "name": "ipython",
    "version": 3
   },
   "file_extension": ".py",
   "mimetype": "text/x-python",
   "name": "python",
   "nbconvert_exporter": "python",
   "pygments_lexer": "ipython3",
   "version": "3.10.11"
  }
 },
 "nbformat": 4,
 "nbformat_minor": 2
}
